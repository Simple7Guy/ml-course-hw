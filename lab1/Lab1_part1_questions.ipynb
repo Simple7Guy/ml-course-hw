{
 "cells": [
  {
   "cell_type": "markdown",
   "metadata": {},
   "source": [
    "*Credits: materials from this notebook belong to YSDA [Practical DL](https://github.com/yandexdataschool/Practical_DL) course. Special thanks for making them available online.*"
   ]
  },
  {
   "cell_type": "markdown",
   "metadata": {},
   "source": [
    "# Lab assignment №1, part 1\n",
    "\n",
    "This lab assignment consists of several parts. You are supposed to make some transformations, train some models, estimate the quality of the models and explain your results.\n",
    "\n",
    "Several comments:\n",
    "* Don't hesitate to ask questions, it's a good practice.\n",
    "* No private/public sharing, please. The copied assignments will be graded with 0 points.\n",
    "* Blocks of this lab will be graded separately."
   ]
  },
  {
   "cell_type": "markdown",
   "metadata": {},
   "source": [
    "## 1. Matrix differentiation"
   ]
  },
  {
   "cell_type": "markdown",
   "metadata": {},
   "source": [
    "Since it easy to google every task please please please try to undestand what's going on. The \"just answer\" thing will be not counted, make sure to present derivation of your solution. It is absolutely OK if you found an answer on web then just exercise in $\\LaTeX$ copying it into here."
   ]
  },
  {
   "cell_type": "markdown",
   "metadata": {},
   "source": [
    "Useful links: \n",
    "[1](http://www.machinelearning.ru/wiki/images/2/2a/Matrix-Gauss.pdf)\n",
    "[2](http://www.atmos.washington.edu/~dennis/MatrixCalculus.pdf)"
   ]
  },
  {
   "cell_type": "markdown",
   "metadata": {},
   "source": [
    "## ex. 1"
   ]
  },
  {
   "cell_type": "markdown",
   "metadata": {},
   "source": [
    "$$  \n",
    "y = x^Tx,  \\quad x \\in \\mathbb{R}^N \n",
    "$$"
   ]
  },
  {
   "cell_type": "markdown",
   "metadata": {},
   "source": [
    "$$\n",
    "\\frac{dy}{dx} = \n",
    "$$ "
   ]
  },
  {
   "cell_type": "markdown",
   "metadata": {
    "collapsed": true,
    "jupyter": {
     "outputs_hidden": true
    }
   },
   "source": [
    "Для вычисления производной функции y = x^T * x по x необходимо применить правило дифференцирования произведения:\n",
    "\n",
    "d(y)/d(x) = d(x^T)/d(x) * x + x^T * d(x)/d(x)\n",
    "\n",
    "Здесь первое слагаемое равно x, а второе слагаемое также равно x (так как производная по x от x равна 1). Поэтому:\n",
    "\n",
    "d(y)/d(x) = 2x\n",
    "\n",
    "Таким образом, производная функции y = x^T * x по x равна 2x."
   ]
  },
  {
   "cell_type": "markdown",
   "metadata": {},
   "source": [
    "## ex. 2"
   ]
  },
  {
   "cell_type": "markdown",
   "metadata": {},
   "source": [
    "$$ y = tr(AB) \\quad A,B \\in \\mathbb{R}^{N \\times N} $$ "
   ]
  },
  {
   "cell_type": "markdown",
   "metadata": {},
   "source": [
    "$$\n",
    "\\frac{dy}{dA} =\n",
    "$$"
   ]
  },
  {
   "cell_type": "markdown",
   "metadata": {
    "collapsed": true,
    "jupyter": {
     "outputs_hidden": true
    }
   },
   "source": [
    "Для вычисления производной функции y = tr(AB)A по матрице A необходимо использовать правило дифференцирования следа матрицы:\n",
    "\n",
    "d(tr(AB))/dA = B^T\n",
    "\n",
    "Здесь B^T обозначает транспонированную матрицу B. Таким образом, производная функции y = tr(AB)A по матрице A равна B^T.\n",
    "\n",
    "Итого:\n",
    "\n",
    "d(y)/d(A) = B^T"
   ]
  },
  {
   "cell_type": "markdown",
   "metadata": {},
   "source": [
    "## ex. 3"
   ]
  },
  {
   "cell_type": "markdown",
   "metadata": {},
   "source": [
    "$$  \n",
    "y = x^TAc , \\quad A\\in \\mathbb{R}^{N \\times N}, x\\in \\mathbb{R}^{N}, c\\in \\mathbb{R}^{N} \n",
    "$$"
   ]
  },
  {
   "cell_type": "markdown",
   "metadata": {},
   "source": [
    "$$\n",
    "\\frac{dy}{dx} =\n",
    "$$"
   ]
  },
  {
   "cell_type": "markdown",
   "metadata": {},
   "source": [
    "$$\n",
    "\\frac{dy}{dA} =\n",
    "$$ "
   ]
  },
  {
   "cell_type": "markdown",
   "metadata": {},
   "source": [
    "Hint for the latter (one of the ways): use *ex. 2* result and the fact \n",
    "$$\n",
    "tr(ABC) = tr (CAB)\n",
    "$$"
   ]
  },
  {
   "cell_type": "markdown",
   "metadata": {
    "collapsed": true,
    "jupyter": {
     "outputs_hidden": true
    }
   },
   "source": [
    "𝑑𝑦/𝑑𝑥 = 𝐴𝑐\n",
    "\n",
    "Для вычисления производной функции y по матрице A воспользуемся правилом дифференцирования следа матрицы и свойством циклического сдвига следа:\n",
    "\n",
    "𝑑𝑦/𝑑𝐴 = 𝑑(𝑥^T𝐴𝑐)/𝑑𝐴 = 𝑥^T𝑐(𝑑𝐴^T)/𝑑𝐴 = 𝑐𝑥^T\n",
    "\n",
    "Здесь мы использовали свойство циклического сдвига следа: tr(ABC) = tr(CAB) = tr(BCA) для любых матриц A, B, C размеров, для которых определены произведения. Таким образом, 𝑡𝑟(𝐴𝐵𝐶)=𝑡𝑟(𝐶𝐴𝐵) = 𝑡𝑟(𝐵𝐶𝐴) = ... = 𝑡𝑟(𝐵𝐶𝐴...𝐶). \n",
    "\n",
    "Итого:\n",
    "\n",
    "𝑑𝑦/𝑑𝐴 = 𝑐𝑥^T."
   ]
  },
  {
   "cell_type": "markdown",
   "metadata": {},
   "source": [
    "## ex. 4"
   ]
  },
  {
   "cell_type": "markdown",
   "metadata": {},
   "source": [
    "Classic matrix factorization example. Given matrix $X$ you need to find $A$, $S$ to approximate $X$. This can be done by simple gradient descent iteratively alternating $A$ and $S$ updates.\n",
    "$$\n",
    "J = || X - AS ||_F^2  , \\quad A\\in \\mathbb{R}^{N \\times R} , \\quad S\\in \\mathbb{R}^{R \\times M}\n",
    "$$\n",
    "$$\n",
    "\\frac{dJ}{dS} = ? \n",
    "$$\n",
    "\n",
    "You may use one of the following approaches:"
   ]
  },
  {
   "cell_type": "markdown",
   "metadata": {},
   "source": [
    "Чтобы найти производную J по отношению к S, мы можем использовать правило дифференцирования цепочки:\n",
    "\n",
    "𝑑𝐽/𝑑𝑆 = 𝑑/d𝑆 (||𝑋 − 𝐴𝑆||^2_F)\n",
    "\n",
    "𝑑/𝑑𝑆 (||𝑋 − 𝐴𝑆||^2_F) = 2(𝑋 − 𝐴𝑆)(−𝐴)^T\n",
    "\n",
    "Здесь мы использовали тот факт, что производная ||𝑋 − 𝐴𝑆||^2_F по отношению к S равна 2(𝑋 − 𝐴𝑆)(−𝐴)^T, что можно вывести, используя матричное исчисление.\n",
    "\n",
    "Таким образом, производная J по отношению к S равна:\n",
    "\n",
    "𝑑𝐽/𝑑𝑆 = 2(𝑋 − 𝐴𝑆)(−𝐴)^T."
   ]
  },
  {
   "cell_type": "markdown",
   "metadata": {},
   "source": [
    "#### First approach\n",
    "Using ex.2 and the fact:\n",
    "$$\n",
    "|| X ||_F^2 = tr(XX^T) \n",
    "$$ \n",
    "it is easy to derive gradients (you can find it in one of the refs). "
   ]
  },
  {
   "cell_type": "markdown",
   "metadata": {},
   "source": [
    "#### Second approach\n",
    "You can use *slightly different techniques* if they suits you. Take a look at this derivation:\n",
    "<img src=\"grad.png\">\n",
    "(excerpt from [Handbook of blind source separation, Jutten, page 517](https://books.google.ru/books?id=PTbj03bYH6kC&printsec=frontcover&dq=Handbook+of+Blind+Source+Separation&hl=en&sa=X&ved=0ahUKEwi-q_apiJDLAhULvXIKHVXJDWcQ6AEIHDAA#v=onepage&q=Handbook%20of%20Blind%20Source%20Separation&f=false), open for better picture)."
   ]
  },
  {
   "cell_type": "markdown",
   "metadata": {},
   "source": [
    "#### Third approach\n",
    "And finally we can use chain rule! \n",
    "let $ F = AS $ \n",
    "\n",
    "**Find**\n",
    "$$\n",
    "\\frac{dJ}{dF} =  \n",
    "$$ \n",
    "and \n",
    "$$\n",
    "\\frac{dF}{dS} =  \n",
    "$$ \n",
    "(the shape should be $ NM \\times RM )$.\n",
    "\n",
    "Now it is easy do get desired gradients:\n",
    "$$\n",
    "\\frac{dJ}{dS} =  \n",
    "$$ "
   ]
  },
  {
   "cell_type": "markdown",
   "metadata": {},
   "source": [
    "𝑑𝐽/𝑑𝐹 * 𝑑𝐹/𝑑𝑆 = -2(𝐴^T)(𝑋 − 𝐴𝑆) * 𝐴 = -2(𝐴^T)(𝑋𝐴 - 𝐴𝐴𝑆) = -2(𝐴^T)(𝑋𝐴 - 𝐴𝐹)\n",
    "\n",
    "где 𝐹=𝐴𝑆.\n",
    "\n",
    "А для 𝑑𝐹/𝑑𝑆 мы уже выяснили, что это просто 𝐴.\n",
    "\n",
    "Следовательно,\n",
    "\n",
    "𝑑𝐽/𝑑𝑆 = -2(𝐴^T)(𝑋𝐴 - 𝐴𝐹)\n",
    "\n",
    "и\n",
    "\n",
    "𝑑𝐹/𝑑𝑆 = 𝐴.\n",
    "\n"
   ]
  },
  {
   "cell_type": "markdown",
   "metadata": {
    "collapsed": true,
    "jupyter": {
     "outputs_hidden": true
    }
   },
   "source": [
    "## 2. kNN questions\n",
    "Here come the questions from the assignment0_01. Please, refer to the assignment0_01 to get the context of the questions."
   ]
  },
  {
   "cell_type": "markdown",
   "metadata": {},
   "source": [
    "### Question 1\n",
    "\n",
    "Notice the structured patterns in the distance matrix, where some rows or columns are visible brighter. (Note that with the default color scheme black indicates low distances while white indicates high distances.)\n",
    "\n",
    "- What in the data is the cause behind the distinctly bright rows?\n",
    "- What causes the columns?\n",
    "\n",
    "*Your Answer:*\n",
    "\n",
    "\n"
   ]
  },
  {
   "cell_type": "code",
   "execution_count": null,
   "metadata": {},
   "outputs": [],
   "source": []
  },
  {
   "cell_type": "markdown",
   "metadata": {},
   "source": [
    "### Question 2\n",
    "\n",
    "We can also use other distance metrics such as L1 distance.\n",
    "For pixel values $p_{ij}^{(k)}$ at location $(i,j)$ of some image $I_k$, \n",
    "\n",
    "the mean $\\mu$ across all pixels over all images is $$\\mu=\\frac{1}{nhw}\\sum_{k=1}^n\\sum_{i=1}^{h}\\sum_{j=1}^{w}p_{ij}^{(k)}$$\n",
    "And the pixel-wise mean $\\mu_{ij}$ across all images is \n",
    "$$\\mu_{ij}=\\frac{1}{n}\\sum_{k=1}^np_{ij}^{(k)}.$$\n",
    "The general standard deviation $\\sigma$ and pixel-wise standard deviation $\\sigma_{ij}$ is defined similarly.\n",
    "\n",
    "Which of the following preprocessing steps will not change the performance of a Nearest Neighbor classifier that uses L1 distance? Select all that apply.\n",
    "1. Subtracting the mean $\\mu$ ($\\tilde{p}_{ij}^{(k)}=p_{ij}^{(k)}-\\mu$.)\n",
    "2. Subtracting the per pixel mean $\\mu_{ij}$  ($\\tilde{p}_{ij}^{(k)}=p_{ij}^{(k)}-\\mu_{ij}$.)\n",
    "3. Subtracting the mean $\\mu$ and dividing by the standard deviation $\\sigma$.\n",
    "4. Subtracting the pixel-wise mean $\\mu_{ij}$ and dividing by the pixel-wise standard deviation $\\sigma_{ij}$.\n",
    "5. Rotating the coordinate axes of the data.\n",
    "\n",
    "*Your Answer:* 1\n",
    "\n",
    "\n",
    "*Your Explanation:*\n",
    "\n"
   ]
  },
  {
   "cell_type": "markdown",
   "metadata": {},
   "source": [
    "1) Вычитание среднего 𝜇 не изменит классификатора ближайшего соседа, использующего метрику L1, потому что вычитание одной и той же константы из всех значений пикселей изображения не изменит их относительных расстояний. Например, если все значения пикселей уменьшить на 5, то расстояние между любыми двумя значениями пикселей не изменится. Таким образом, вычитание среднего значения не изменит относительных расстояний между значениями пикселей.\n",
    "\n",
    "2) Вычитание среднего значения на каждый пиксель 𝜇𝑖𝑗 изменит  классификатора ближайшего соседа, использующего метрику L1, потому что это изменит относительные расстояния между значениями пикселей изображения. Например, если вычесть из каждого значения пикселя на изображении его среднее значение, то расстояние между значениями пикселей изменится, так как каждое значение пикселя будет смещено на разную величину. Это может привести к тому, что ближайший сосед для данного изображения будет другим, что повлияет на результаты классификатора.\n",
    "\n",
    "3) Вычитание среднего 𝜇 и деление на стандартное отклонение 𝜎 изменит результаты классификатора ближайшего соседа, использующего метрику L1, потому что это изменит относительные расстояния между значениями пикселей изображения. Это связано с тем, что вычитание среднего значения центрирует данные, а деление на стандартное отклонение нормирует их. Таким образом, это изменение может привести к тому, что ближайший сосед для данного изображения будет другим, что повлияет на результат классификатора.\n",
    "\n",
    "4) Вычитание среднего значения на каждый пиксель 𝜇𝑖𝑗 и деление на стандартное отклонение на каждый пиксель 𝜎𝑖𝑗 изменит результат классификатора ближайшего соседа, использующего метрику L1, потому что это изменит относительные расстояния между значениями пикселей изображения. Это связано с тем, что вычитание среднего значения центрирует данные, а деление на стандартное отклонение нормирует их. Таким образом, это изменение может привести к тому, что ближайший сосед для данного изображения будет другим, что повлияет на результат классификатора.\n",
    "\n",
    "5) Поворот координатных осей данных изменит результат классификатора ближайшего соседа, использующего метрику L1, потому что это изменит относительные расстояния между значениями пикселей изображения. При повороте координатных осей данные будут представлены в новой системе координат, в которой расстояния между значениями пикселей могут измениться. Это может привести к тому, что ближайший сосед для данного изображения будет другим, что повлияет на результат классификатора."
   ]
  },
  {
   "cell_type": "markdown",
   "metadata": {},
   "source": [
    "## Question 3\n",
    "\n",
    "Which of the following statements about $k$-Nearest Neighbor ($k$-NN) are true in a classification setting, and for all $k$? Select all that apply.\n",
    "1. The decision boundary (hyperplane between classes in feature space) of the k-NN classifier is linear.\n",
    "2. The training error of a 1-NN will always be lower than that of 5-NN.\n",
    "3. The test error of a 1-NN will always be lower than that of a 5-NN.\n",
    "4. The time needed to classify a test example with the k-NN classifier grows with the size of the training set.\n",
    "5. None of the above.\n",
    "\n",
    "*Your Answer:* 4 (без оптимизации)/\n",
    "5 (если оптимизация учитывается в 4 пункте)\n",
    "\n",
    "\n",
    "*Your Explanation:*\n",
    "\n",
    "\n"
   ]
  },
  {
   "cell_type": "markdown",
   "metadata": {},
   "source": [
    "1. Классификатор k-NN (k ближайших соседей) относится к методам ленивого обучения (lazy learning), то есть он не строит явно модель для классификации, а запоминает обучающую выборку и классифицирует новый объект, находя ближайшие к нему объекты из обучающей выборки. Решающая граница классификатора k-NN может быть любой формы, так как она определяется расположением объектов разных классов в пространстве признаков. Если объекты разных классов расположены сложным образом, то и решающая граница будет сложной.\n",
    "\n",
    "2. Ошибка обучения - это ошибка, которую классификатор допускает на обучающей выборке. Использование 1-NN позволяет получить наименьшую ошибку обучения, так как классифицируемый объект просто копирует метку класса ближайшего объекта из обучающей выборки. Однако это не всегда приводит к наилучшим результатам на тестовой выборке, так как использование только одного ближайшего соседа может привести к переобучению (overfitting) и сильной чувствительности к шуму в данных. Использование нескольких ближайших соседей (например, 5-NN) может уменьшить этот эффект и дать более устойчивую модель.\n",
    "\n",
    "3. Ошибка тестирования - это ошибка, которую классификатор допускает на тестовой выборке. Использование 1-NN может дать лучшие результаты на небольших выборках, где объекты разных классов расположены близко друг к другу, а использование 5-NN может быть лучше на больших выборках или в случаях, когда объекты разных классов расположены далеко друг от друга. В целом, оптимальное значение параметра k (количество ближайших соседей) зависит от конкретной задачи и требует экспериментального подбора.\n",
    "\n",
    "4. Классификация нового объекта с помощью k-NN требует нахождения k ближайших соседей в обучающей выборке и вычисления расстояний до них. Это может быть довольно затратным по времени, особенно если обучающая выборка большая или количество признаков велико. (Если не использовать оптимизацию)"
   ]
  },
  {
   "cell_type": "code",
   "execution_count": null,
   "metadata": {},
   "outputs": [],
   "source": []
  }
 ],
 "metadata": {
  "kernelspec": {
   "display_name": "Python 3",
   "language": "python",
   "name": "python3"
  },
  "language_info": {
   "codemirror_mode": {
    "name": "ipython",
    "version": 3
   },
   "file_extension": ".py",
   "mimetype": "text/x-python",
   "name": "python",
   "nbconvert_exporter": "python",
   "pygments_lexer": "ipython3",
   "version": "3.7.6"
  }
 },
 "nbformat": 4,
 "nbformat_minor": 4
}
